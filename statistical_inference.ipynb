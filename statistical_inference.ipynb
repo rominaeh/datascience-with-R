{
  "nbformat": 4,
  "nbformat_minor": 0,
  "metadata": {
    "colab": {
      "provenance": [],
      "authorship_tag": "ABX9TyMWJ23T7y8gCWHHrNuVYvfZ",
      "include_colab_link": true
    },
    "kernelspec": {
      "name": "ir",
      "display_name": "R"
    },
    "language_info": {
      "name": "R"
    }
  },
  "cells": [
    {
      "cell_type": "markdown",
      "metadata": {
        "id": "view-in-github",
        "colab_type": "text"
      },
      "source": [
        "<a href=\"https://colab.research.google.com/github/rominaeh/datascience-with-R/blob/main/statistical_inference.ipynb\" target=\"_parent\"><img src=\"https://colab.research.google.com/assets/colab-badge.svg\" alt=\"Open In Colab\"/></a>"
      ]
    },
    {
      "cell_type": "code",
      "source": [
        "# مثال 6\n",
        "# confidence interval\n",
        "# manually calculating\n",
        "(3/sqrt(25))*qnorm(.975)\n",
        "d = round((3/sqrt(25))*qnorm(.975),1)\n",
        "d\n",
        "c(50-d , 50+d)\n",
        "print('--------------------------')\n",
        "ci.mu.test = function(xbar, sigma, n, alpha=0.05){\n",
        "c(xbar-sigma/sqrt(n)*qnorm(1-alpha/2), xbar+sigma/sqrt(n)*qnorm(1-alpha/2))}\n",
        "ci.mu.test(50, 3, 25)"
      ],
      "metadata": {
        "colab": {
          "base_uri": "https://localhost:8080/",
          "height": 104
        },
        "id": "7MlJJ8xTgqqo",
        "outputId": "f62903cb-b39a-4cb3-df5f-f7ae95a7d9d9"
      },
      "execution_count": 6,
      "outputs": [
        {
          "output_type": "display_data",
          "data": {
            "text/html": [
              "1.17597839072403"
            ],
            "text/markdown": "1.17597839072403",
            "text/latex": "1.17597839072403",
            "text/plain": [
              "[1] 1.175978"
            ]
          },
          "metadata": {}
        },
        {
          "output_type": "display_data",
          "data": {
            "text/html": [
              "1.2"
            ],
            "text/markdown": "1.2",
            "text/latex": "1.2",
            "text/plain": [
              "[1] 1.2"
            ]
          },
          "metadata": {}
        },
        {
          "output_type": "display_data",
          "data": {
            "text/html": [
              "<style>\n",
              ".list-inline {list-style: none; margin:0; padding: 0}\n",
              ".list-inline>li {display: inline-block}\n",
              ".list-inline>li:not(:last-child)::after {content: \"\\00b7\"; padding: 0 .5ex}\n",
              "</style>\n",
              "<ol class=list-inline><li>48.8</li><li>51.2</li></ol>\n"
            ],
            "text/markdown": "1. 48.8\n2. 51.2\n\n\n",
            "text/latex": "\\begin{enumerate*}\n\\item 48.8\n\\item 51.2\n\\end{enumerate*}\n",
            "text/plain": [
              "[1] 48.8 51.2"
            ]
          },
          "metadata": {}
        },
        {
          "output_type": "stream",
          "name": "stdout",
          "text": [
            "[1] \"--------------------------\"\n"
          ]
        },
        {
          "output_type": "display_data",
          "data": {
            "text/html": [
              "<style>\n",
              ".list-inline {list-style: none; margin:0; padding: 0}\n",
              ".list-inline>li {display: inline-block}\n",
              ".list-inline>li:not(:last-child)::after {content: \"\\00b7\"; padding: 0 .5ex}\n",
              "</style>\n",
              "<ol class=list-inline><li>48.824021609276</li><li>51.175978390724</li></ol>\n"
            ],
            "text/markdown": "1. 48.824021609276\n2. 51.175978390724\n\n\n",
            "text/latex": "\\begin{enumerate*}\n\\item 48.824021609276\n\\item 51.175978390724\n\\end{enumerate*}\n",
            "text/plain": [
              "[1] 48.82402 51.17598"
            ]
          },
          "metadata": {}
        }
      ]
    },
    {
      "cell_type": "code",
      "source": [
        "# مثال 7\n",
        "# with t test calculating\n",
        "#  for the mean of a sample\n",
        "battery = c(21, 24, 18, 17, 20, 26, 28, 23, 21)\n",
        "t.test(battery, mu=22)$conf.int\n",
        "# for the variance of the sample - manually\n",
        "ci.var.test = function(x, alpha = 0.05){\n",
        "    n = length(x)\n",
        "    c((n-1)*var(x)/qchisq(1-alpha/2, n-1), (n-1)*var(x)/qchisq(alpha/2, n-1))\n",
        "}\n",
        "ci.var.test(battery)"
      ],
      "metadata": {
        "colab": {
          "base_uri": "https://localhost:8080/",
          "height": 52
        },
        "id": "-OkOnkP5i2Yw",
        "outputId": "06aea2c8-d320-47a0-c2c5-596afe4468e1"
      },
      "execution_count": 9,
      "outputs": [
        {
          "output_type": "display_data",
          "data": {
            "text/html": [
              "<style>\n",
              ".list-inline {list-style: none; margin:0; padding: 0}\n",
              ".list-inline>li {display: inline-block}\n",
              ".list-inline>li:not(:last-child)::after {content: \"\\00b7\"; padding: 0 .5ex}\n",
              "</style>\n",
              "<ol class=list-inline><li>19.2285279496965</li><li>24.7714720503035</li></ol>\n"
            ],
            "text/markdown": "1. 19.2285279496965\n2. 24.7714720503035\n\n\n",
            "text/latex": "\\begin{enumerate*}\n\\item 19.2285279496965\n\\item 24.7714720503035\n\\end{enumerate*}\n",
            "text/plain": [
              "[1] 19.22853 24.77147\n",
              "attr(,\"conf.level\")\n",
              "[1] 0.95"
            ]
          },
          "metadata": {}
        },
        {
          "output_type": "display_data",
          "data": {
            "text/html": [
              "<style>\n",
              ".list-inline {list-style: none; margin:0; padding: 0}\n",
              ".list-inline>li {display: inline-block}\n",
              ".list-inline>li:not(:last-child)::after {content: \"\\00b7\"; padding: 0 .5ex}\n",
              "</style>\n",
              "<ol class=list-inline><li>5.93114866918686</li><li>47.7123149871068</li></ol>\n"
            ],
            "text/markdown": "1. 5.93114866918686\n2. 47.7123149871068\n\n\n",
            "text/latex": "\\begin{enumerate*}\n\\item 5.93114866918686\n\\item 47.7123149871068\n\\end{enumerate*}\n",
            "text/plain": [
              "[1]  5.931149 47.712315"
            ]
          },
          "metadata": {}
        }
      ]
    },
    {
      "cell_type": "code",
      "source": [
        "# مثال 8\n",
        "# with binom test calculating\n",
        "binom.test(44,100,p=0.5)$conf.int\n",
        "# (x,sample,alpha)\n",
        "# manually\n",
        "c(0.44-sqrt(0.44*0.56/100)*qnorm(0.975), 0.44+ sqrt(0.44*0.56/100)*qnorm(0.975))"
      ],
      "metadata": {
        "colab": {
          "base_uri": "https://localhost:8080/",
          "height": 52
        },
        "id": "BEY4nnkkl9a6",
        "outputId": "7dcb9555-2a91-43d6-db64-accb4172f6f3"
      },
      "execution_count": 10,
      "outputs": [
        {
          "output_type": "display_data",
          "data": {
            "text/html": [
              "<style>\n",
              ".list-inline {list-style: none; margin:0; padding: 0}\n",
              ".list-inline>li {display: inline-block}\n",
              ".list-inline>li:not(:last-child)::after {content: \"\\00b7\"; padding: 0 .5ex}\n",
              "</style>\n",
              "<ol class=list-inline><li>0.340836023723458</li><li>0.542812502936682</li></ol>\n"
            ],
            "text/markdown": "1. 0.340836023723458\n2. 0.542812502936682\n\n\n",
            "text/latex": "\\begin{enumerate*}\n\\item 0.340836023723458\n\\item 0.542812502936682\n\\end{enumerate*}\n",
            "text/plain": [
              "[1] 0.3408360 0.5428125\n",
              "attr(,\"conf.level\")\n",
              "[1] 0.95"
            ]
          },
          "metadata": {}
        },
        {
          "output_type": "display_data",
          "data": {
            "text/html": [
              "<style>\n",
              ".list-inline {list-style: none; margin:0; padding: 0}\n",
              ".list-inline>li {display: inline-block}\n",
              ".list-inline>li:not(:last-child)::after {content: \"\\00b7\"; padding: 0 .5ex}\n",
              "</style>\n",
              "<ol class=list-inline><li>0.342709946375848</li><li>0.537290053624152</li></ol>\n"
            ],
            "text/markdown": "1. 0.342709946375848\n2. 0.537290053624152\n\n\n",
            "text/latex": "\\begin{enumerate*}\n\\item 0.342709946375848\n\\item 0.537290053624152\n\\end{enumerate*}\n",
            "text/plain": [
              "[1] 0.3427099 0.5372901"
            ]
          },
          "metadata": {}
        }
      ]
    },
    {
      "cell_type": "code",
      "source": [
        "# مثال 12\n",
        "# one sample t test"
      ],
      "metadata": {
        "colab": {
          "base_uri": "https://localhost:8080/",
          "height": 143
        },
        "id": "gtBQ9q_AoCtQ",
        "outputId": "2ad73734-0172-469c-a76e-ba285eec5cee"
      },
      "execution_count": 12,
      "outputs": [
        {
          "output_type": "error",
          "ename": "ERROR",
          "evalue": "ignored",
          "traceback": [
            "Error in eval(expr, envir, enclos): object 'x' not found\nTraceback:\n",
            "1. t.test(x, mu = 10, alternative = \"greater\")"
          ]
        }
      ]
    },
    {
      "cell_type": "code",
      "source": [
        "# مثال 17\n",
        "# corr test"
      ],
      "metadata": {
        "id": "MJwAF4r3pF8A"
      },
      "execution_count": null,
      "outputs": []
    },
    {
      "cell_type": "code",
      "source": [
        "# مثال 18\n",
        "# f test"
      ],
      "metadata": {
        "id": "AQCHyiBZpNjF"
      },
      "execution_count": null,
      "outputs": []
    },
    {
      "cell_type": "code",
      "source": [
        "# مثال 21\n",
        "# two sample t test"
      ],
      "metadata": {
        "id": "YO0uvd77pVPu"
      },
      "execution_count": null,
      "outputs": []
    },
    {
      "cell_type": "code",
      "source": [
        "# مثال 22\n",
        "# one way ANOVA\n"
      ],
      "metadata": {
        "id": "noqqHmf54b9f"
      },
      "execution_count": null,
      "outputs": []
    },
    {
      "cell_type": "code",
      "source": [
        "# مثال 25\n",
        "# Fisher's LSD Test\n",
        "    # After conducting ANOVA, if significant differences are found among group means, the LSD test helps determine which specific groups differ.\n",
        "    # The LSD test compares the means of each pair of groups and determines if the difference is statistically significant.\n",
        "    # The test involves comparing the absolute difference between the means of two groups against a critical value.\n",
        "wheat= c(7,7, 15,11, 9,12, 17,12, 18,18, 14, 18, 18, 19, 19,19, 25,22, 19,23, 7,10, 11,15,11)\n",
        "nitrate = factor(rep(c(1:5), each=5))\n",
        "wheatdf = data.frame(wheat, nitrate)\n",
        "wheatdf"
      ],
      "metadata": {
        "colab": {
          "base_uri": "https://localhost:8080/",
          "height": 900
        },
        "id": "qy89xQDEu83R",
        "outputId": "7fb2958a-a175-458a-e7f8-04736148b0a7"
      },
      "execution_count": null,
      "outputs": [
        {
          "output_type": "display_data",
          "data": {
            "text/html": [
              "<table class=\"dataframe\">\n",
              "<caption>A data.frame: 25 × 2</caption>\n",
              "<thead>\n",
              "\t<tr><th scope=col>wheat</th><th scope=col>nitrate</th></tr>\n",
              "\t<tr><th scope=col>&lt;dbl&gt;</th><th scope=col>&lt;fct&gt;</th></tr>\n",
              "</thead>\n",
              "<tbody>\n",
              "\t<tr><td> 7</td><td>1</td></tr>\n",
              "\t<tr><td> 7</td><td>1</td></tr>\n",
              "\t<tr><td>15</td><td>1</td></tr>\n",
              "\t<tr><td>11</td><td>1</td></tr>\n",
              "\t<tr><td> 9</td><td>1</td></tr>\n",
              "\t<tr><td>12</td><td>2</td></tr>\n",
              "\t<tr><td>17</td><td>2</td></tr>\n",
              "\t<tr><td>12</td><td>2</td></tr>\n",
              "\t<tr><td>18</td><td>2</td></tr>\n",
              "\t<tr><td>18</td><td>2</td></tr>\n",
              "\t<tr><td>14</td><td>3</td></tr>\n",
              "\t<tr><td>18</td><td>3</td></tr>\n",
              "\t<tr><td>18</td><td>3</td></tr>\n",
              "\t<tr><td>19</td><td>3</td></tr>\n",
              "\t<tr><td>19</td><td>3</td></tr>\n",
              "\t<tr><td>19</td><td>4</td></tr>\n",
              "\t<tr><td>25</td><td>4</td></tr>\n",
              "\t<tr><td>22</td><td>4</td></tr>\n",
              "\t<tr><td>19</td><td>4</td></tr>\n",
              "\t<tr><td>23</td><td>4</td></tr>\n",
              "\t<tr><td> 7</td><td>5</td></tr>\n",
              "\t<tr><td>10</td><td>5</td></tr>\n",
              "\t<tr><td>11</td><td>5</td></tr>\n",
              "\t<tr><td>15</td><td>5</td></tr>\n",
              "\t<tr><td>11</td><td>5</td></tr>\n",
              "</tbody>\n",
              "</table>\n"
            ],
            "text/markdown": "\nA data.frame: 25 × 2\n\n| wheat &lt;dbl&gt; | nitrate &lt;fct&gt; |\n|---|---|\n|  7 | 1 |\n|  7 | 1 |\n| 15 | 1 |\n| 11 | 1 |\n|  9 | 1 |\n| 12 | 2 |\n| 17 | 2 |\n| 12 | 2 |\n| 18 | 2 |\n| 18 | 2 |\n| 14 | 3 |\n| 18 | 3 |\n| 18 | 3 |\n| 19 | 3 |\n| 19 | 3 |\n| 19 | 4 |\n| 25 | 4 |\n| 22 | 4 |\n| 19 | 4 |\n| 23 | 4 |\n|  7 | 5 |\n| 10 | 5 |\n| 11 | 5 |\n| 15 | 5 |\n| 11 | 5 |\n\n",
            "text/latex": "A data.frame: 25 × 2\n\\begin{tabular}{ll}\n wheat & nitrate\\\\\n <dbl> & <fct>\\\\\n\\hline\n\t  7 & 1\\\\\n\t  7 & 1\\\\\n\t 15 & 1\\\\\n\t 11 & 1\\\\\n\t  9 & 1\\\\\n\t 12 & 2\\\\\n\t 17 & 2\\\\\n\t 12 & 2\\\\\n\t 18 & 2\\\\\n\t 18 & 2\\\\\n\t 14 & 3\\\\\n\t 18 & 3\\\\\n\t 18 & 3\\\\\n\t 19 & 3\\\\\n\t 19 & 3\\\\\n\t 19 & 4\\\\\n\t 25 & 4\\\\\n\t 22 & 4\\\\\n\t 19 & 4\\\\\n\t 23 & 4\\\\\n\t  7 & 5\\\\\n\t 10 & 5\\\\\n\t 11 & 5\\\\\n\t 15 & 5\\\\\n\t 11 & 5\\\\\n\\end{tabular}\n",
            "text/plain": [
              "   wheat nitrate\n",
              "1   7    1      \n",
              "2   7    1      \n",
              "3  15    1      \n",
              "4  11    1      \n",
              "5   9    1      \n",
              "6  12    2      \n",
              "7  17    2      \n",
              "8  12    2      \n",
              "9  18    2      \n",
              "10 18    2      \n",
              "11 14    3      \n",
              "12 18    3      \n",
              "13 18    3      \n",
              "14 19    3      \n",
              "15 19    3      \n",
              "16 19    4      \n",
              "17 25    4      \n",
              "18 22    4      \n",
              "19 19    4      \n",
              "20 23    4      \n",
              "21  7    5      \n",
              "22 10    5      \n",
              "23 11    5      \n",
              "24 15    5      \n",
              "25 11    5      "
            ]
          },
          "metadata": {}
        }
      ]
    },
    {
      "cell_type": "code",
      "source": [
        "wheataov = aov(wheat ~ nitrate, wheatdf)\n",
        "wheataov"
      ],
      "metadata": {
        "colab": {
          "base_uri": "https://localhost:8080/",
          "height": 191
        },
        "id": "C4KUkolVyUps",
        "outputId": "091e46d0-b866-4db8-b886-556a7e3a5ae9"
      },
      "execution_count": null,
      "outputs": [
        {
          "output_type": "display_data",
          "data": {
            "text/plain": [
              "Call:\n",
              "   aov(formula = wheat ~ nitrate, data = wheatdf)\n",
              "\n",
              "Terms:\n",
              "                nitrate Residuals\n",
              "Sum of Squares   475.76    161.20\n",
              "Deg. of Freedom       4        20\n",
              "\n",
              "Residual standard error: 2.839014\n",
              "Estimated effects may be unbalanced"
            ]
          },
          "metadata": {}
        }
      ]
    },
    {
      "cell_type": "markdown",
      "source": [
        "    nitrate: This represents the variance in the wheat measurements that can be attributed to the different levels of nitrate.\n",
        "    Residuals: This represents the variance in the wheat measurements that is not explained by the nitrate levels.\n",
        "\n",
        "Sum of Squares:\n",
        "\n",
        "    475.76 for nitrate: This is the total variance in wheat explained by the different levels of nitrate.\n",
        "    161.20 for Residuals: This is the variance in wheat that cannot be explained by the nitrate levels (i.e., it's the unexplained or error variance).\n",
        "\n",
        "Degrees of Freedom:\n",
        "\n",
        "    4 for nitrate: This indicates that there are 5 (4+1) levels of nitrate treatments.\n",
        "    20 for Residuals: This is calculated as the total number of observations minus the number of levels in the nitrate variable.\n",
        "\n",
        "Residual Standard Error:\n",
        "\n",
        "    2.839014: This is the standard deviation of the residuals. It measures the typical distance between the observed wheat values and the values predicted by the model. A lower residual standard error indicates a better fit of the model to the data.\n",
        "\n",
        "Estimated Effects May Be Unbalanced:\n",
        "\n",
        "    This note suggests that the data may not be balanced, meaning that the groups (levels of nitrate) might not have equal sample sizes. Unbalanced data can affect the interpretation and the statistical power of ANOVA."
      ],
      "metadata": {
        "id": "7vDVgYWRzK3z"
      }
    },
    {
      "cell_type": "markdown",
      "source": [
        "If the ANOVA results indicate significant differences among the group means (e.g., significant sum of squares for the treatment or factor, as in your case with the nitrate variable), it suggests that not all group means are equal. However, ANOVA doesn't tell you which specific groups are different from each other."
      ],
      "metadata": {
        "id": "UTMVTSdfzm6O"
      }
    },
    {
      "cell_type": "markdown",
      "source": [
        "    You conducted an ANOVA (Analysis of Variance) to assess whether there are significant differences in the wheat measurements across different levels of nitrate.\n",
        "    The ANOVA results indicated a significant variance in wheat yields attributable to the different levels of nitrate (as evidenced by a high sum of squares for the nitrate factor). This suggests that not all levels of nitrate have the same effect on wheat yields."
      ],
      "metadata": {
        "id": "KgC9vkzc0EiZ"
      }
    },
    {
      "cell_type": "code",
      "source": [
        "install.packages('agricolae'); update.packages('agricolae')\n",
        "library('agricolae')\n",
        "with(wheataov, pairwise.t.test(wheat, nitrate, p.adjust=\"none\")) #hough pairwise.t.test and lst.test() are used for making pairwise comparisons between group means after an ANOVA."
      ],
      "metadata": {
        "colab": {
          "base_uri": "https://localhost:8080/",
          "height": 278
        },
        "id": "h2Sq0ynVxY1D",
        "outputId": "552e0f25-fd96-4b8b-91ba-86b9aa3bfab8"
      },
      "execution_count": null,
      "outputs": [
        {
          "output_type": "stream",
          "name": "stderr",
          "text": [
            "Installing package into ‘/usr/local/lib/R/site-library’\n",
            "(as ‘lib’ is unspecified)\n",
            "\n"
          ]
        },
        {
          "output_type": "display_data",
          "data": {
            "text/plain": [
              "\n",
              "\tPairwise comparisons using t tests with pooled SD \n",
              "\n",
              "data:  wheat and nitrate \n",
              "\n",
              "  1       2       3       4      \n",
              "2 0.00541 -       -       -      \n",
              "3 0.00031 0.23471 -       -      \n",
              "4 2.1e-06 0.00251 0.03754 -      \n",
              "5 0.58375 0.01859 0.00116 7.0e-06\n",
              "\n",
              "P value adjustment method: none "
            ]
          },
          "metadata": {}
        }
      ]
    },
    {
      "cell_type": "markdown",
      "source": [
        "    Nitrate Levels 1 and 2 (p = 0.00541): There is a significant difference between these levels.\n",
        "    Nitrate Levels 1 and 3 (p = 0.00031): There is a significant difference.\n",
        "    Nitrate Levels 1 and 4 (p = 2.1e-06): There is a significant difference.\n",
        "    Nitrate Levels 1 and 5 (p = 0.58375): No significant difference.\n",
        "    Nitrate Levels 2 and 3 (p = 0.23471): No significant difference.\n",
        "    Nitrate Levels 2 and 4 (p = 0.00251): There is a significant difference.\n",
        "    Nitrate Levels 2 and 5 (p = 0.01859): There is a significant difference.\n",
        "    Nitrate Levels 3 and 4 (p = 0.03754): There is a significant difference.\n",
        "    Nitrate Levels 3 and 5 (p = 0.00116): There is a significant difference.\n",
        "    Nitrate Levels 4 and 5 (p = 7.0e-06): There is a significant difference.\n",
        "\n",
        "P Value Adjustment Method: None:\n",
        "\n",
        "    This indicates that the p-values are not adjusted for multiple comparisons. In the context of LSD tests, this is standard practice, but it's important to be aware that it can increase the risk of Type I errors (false positives), especially with many comparisons."
      ],
      "metadata": {
        "id": "0EyH-Ngr01av"
      }
    },
    {
      "cell_type": "code",
      "source": [
        "# مثال 28\n",
        "# ANOVA test\n",
        "f1 = factor(c(1, 1, 1, 1, 2, 2, 2, 2)) # Factor for type of car\n",
        "f2 = factor(c(1, 1, 2, 2, 1, 1, 2, 2)) # Factor for type of gasoline\n",
        "y = c(26.7, 25.2, 28.6, 29.3, 32.3, 32.8, 26.1, 24.2) # Miles per gallon data\n",
        "ydf = data.frame(y, f1, f2); # Creating a data frame\n",
        "ydf\n",
        "#  2 types of cars with 2 type of gasoline each how much gas they consume"
      ],
      "metadata": {
        "colab": {
          "base_uri": "https://localhost:8080/",
          "height": 349
        },
        "id": "41Ror6GUqQmN",
        "outputId": "3e807ebe-b128-44d9-edbd-a5e02dadcce3"
      },
      "execution_count": null,
      "outputs": [
        {
          "output_type": "display_data",
          "data": {
            "text/html": [
              "<table class=\"dataframe\">\n",
              "<caption>A data.frame: 8 × 3</caption>\n",
              "<thead>\n",
              "\t<tr><th scope=col>y</th><th scope=col>f1</th><th scope=col>f2</th></tr>\n",
              "\t<tr><th scope=col>&lt;dbl&gt;</th><th scope=col>&lt;fct&gt;</th><th scope=col>&lt;fct&gt;</th></tr>\n",
              "</thead>\n",
              "<tbody>\n",
              "\t<tr><td>26.7</td><td>1</td><td>1</td></tr>\n",
              "\t<tr><td>25.2</td><td>1</td><td>1</td></tr>\n",
              "\t<tr><td>28.6</td><td>1</td><td>2</td></tr>\n",
              "\t<tr><td>29.3</td><td>1</td><td>2</td></tr>\n",
              "\t<tr><td>32.3</td><td>2</td><td>1</td></tr>\n",
              "\t<tr><td>32.8</td><td>2</td><td>1</td></tr>\n",
              "\t<tr><td>26.1</td><td>2</td><td>2</td></tr>\n",
              "\t<tr><td>24.2</td><td>2</td><td>2</td></tr>\n",
              "</tbody>\n",
              "</table>\n"
            ],
            "text/markdown": "\nA data.frame: 8 × 3\n\n| y &lt;dbl&gt; | f1 &lt;fct&gt; | f2 &lt;fct&gt; |\n|---|---|---|\n| 26.7 | 1 | 1 |\n| 25.2 | 1 | 1 |\n| 28.6 | 1 | 2 |\n| 29.3 | 1 | 2 |\n| 32.3 | 2 | 1 |\n| 32.8 | 2 | 1 |\n| 26.1 | 2 | 2 |\n| 24.2 | 2 | 2 |\n\n",
            "text/latex": "A data.frame: 8 × 3\n\\begin{tabular}{lll}\n y & f1 & f2\\\\\n <dbl> & <fct> & <fct>\\\\\n\\hline\n\t 26.7 & 1 & 1\\\\\n\t 25.2 & 1 & 1\\\\\n\t 28.6 & 1 & 2\\\\\n\t 29.3 & 1 & 2\\\\\n\t 32.3 & 2 & 1\\\\\n\t 32.8 & 2 & 1\\\\\n\t 26.1 & 2 & 2\\\\\n\t 24.2 & 2 & 2\\\\\n\\end{tabular}\n",
            "text/plain": [
              "  y    f1 f2\n",
              "1 26.7 1  1 \n",
              "2 25.2 1  1 \n",
              "3 28.6 1  2 \n",
              "4 29.3 1  2 \n",
              "5 32.3 2  1 \n",
              "6 32.8 2  1 \n",
              "7 26.1 2  2 \n",
              "8 24.2 2  2 "
            ]
          },
          "metadata": {}
        }
      ]
    },
    {
      "cell_type": "code",
      "source": [
        "summary(aov(y ~ f1 * f2))"
      ],
      "metadata": {
        "colab": {
          "base_uri": "https://localhost:8080/",
          "height": 139
        },
        "id": "QiQyH5Jzq5hV",
        "outputId": "01fd81ba-21c8-40b7-b4b7-b77bde0ba76b"
      },
      "execution_count": null,
      "outputs": [
        {
          "output_type": "display_data",
          "data": {
            "text/plain": [
              "            Df Sum Sq Mean Sq F value  Pr(>F)   \n",
              "f1           1   3.92    3.92   4.752 0.09477 . \n",
              "f2           1   9.68    9.68  11.733 0.02665 * \n",
              "f1:f2        1  54.08   54.08  65.552 0.00126 **\n",
              "Residuals    4   3.30    0.82                   \n",
              "---\n",
              "Signif. codes:  0 ‘***’ 0.001 ‘**’ 0.01 ‘*’ 0.05 ‘.’ 0.1 ‘ ’ 1"
            ]
          },
          "metadata": {}
        }
      ]
    },
    {
      "cell_type": "markdown",
      "source": [
        "    Factor A (Gasoline Type): With a p-value of 0.09477, it's statistically significant at the 10% level but not at the 5% level, suggesting a marginal effect of gasoline type on miles per gallon.\n",
        "    Factor B (Car Type): This factor is significant (p < 0.05), indicating a clear effect of car type on miles per gallon.\n",
        "    Interaction A:B (Interaction between Car Type and Gasoline Type): The interaction is highly significant (p < 0.05), suggesting that the effect of one factor depends on the level of the other factor.\n",
        "\n",
        "    Sum of Squares (Sum Sq):This is a measure of the total variation in the data. It's calculated as the sum of squared differences from the mean.\n",
        "    For each factor (like f1 and f2), the Sum of Squares tells us how much of the total variation in the data is due to that factor. The Residual Sum of Squares represents the variation that is not explained by the model.\n",
        "\n",
        "    Mean Square (Mean Sq):\n",
        "\n",
        "    The Mean Square is calculated by dividing the Sum of Squares by the corresponding degrees of freedom.\n",
        "    It's an average of the squared deviations and provides an estimate of variance for each factor and for the residuals.\n",
        "\n",
        "    F value:\n",
        "\n",
        "    The F value is a test statistic used to determine whether there is a significant difference between groups.\n",
        "    It is calculated by dividing the Mean Square of the factor by the Mean Square of the residuals. A larger F value indicates a more significant difference between groups"
      ],
      "metadata": {
        "id": "r7didbywqPEu"
      }
    },
    {
      "cell_type": "code",
      "source": [
        "LSD.test(wheataov, 'nitrate', console=T)"
      ],
      "metadata": {
        "colab": {
          "base_uri": "https://localhost:8080/"
        },
        "id": "QdZDUkc7tiJ8",
        "outputId": "4c7dc4e6-4d28-4306-fe5e-596a0f52aa99"
      },
      "execution_count": null,
      "outputs": [
        {
          "output_type": "stream",
          "name": "stdout",
          "text": [
            "\n",
            "Study: wheataov ~ \"nitrate\"\n",
            "\n",
            "LSD t Test for wheat \n",
            "\n",
            "Mean Square Error:  8.06 \n",
            "\n",
            "nitrate,  means and individual ( 95 %) CI\n",
            "\n",
            "  wheat      std r       se       LCL      UCL Min Max Q25 Q50 Q75\n",
            "1   9.8 3.346640 5 1.269646  7.151566 12.44843   7  15   7   9  11\n",
            "2  15.4 3.130495 5 1.269646 12.751566 18.04843  12  18  12  17  18\n",
            "3  17.6 2.073644 5 1.269646 14.951566 20.24843  14  19  18  18  19\n",
            "4  21.6 2.607681 5 1.269646 18.951566 24.24843  19  25  19  22  23\n",
            "5  10.8 2.863564 5 1.269646  8.151566 13.44843   7  15  10  11  11\n",
            "\n",
            "Alpha: 0.05 ; DF Error: 20\n",
            "Critical Value of t: 2.085963 \n",
            "\n",
            "least Significant Difference: 3.745452 \n",
            "\n",
            "Treatments with the same letter are not significantly different.\n",
            "\n",
            "  wheat groups\n",
            "4  21.6      a\n",
            "3  17.6      b\n",
            "2  15.4      b\n",
            "5  10.8      c\n",
            "1   9.8      c\n"
          ]
        }
      ]
    },
    {
      "cell_type": "markdown",
      "source": [
        "    Mean Square Error:\n",
        "        Mean Square Error: 8.06: This is the mean of the squared differences between each observation and the overall mean (residuals). It's a measure of the variance within the groups.\n",
        "\n",
        "    Group Mean Information:\n",
        "        The table lists each nitrate group (1 to 5), their mean wheat yields (wheat), standard deviations (std), number of replicates (r), lower and upper confidence limits (LCL and UCL), and the range (Min and Max).\n",
        "        For example, for group 1, the mean wheat yield is 9.8 with a standard deviation of 3.346640, and the 95% confidence interval for the mean is between 7.151566 and 12.44843.\n",
        "\n",
        "    Statistical Parameters:\n",
        "        alpha: 0.05: The significance level used for the test.\n",
        "        Df Error: 20: Degrees of freedom for the error term.\n",
        "        Critical Value of t: 2.085963: The t-value from the t-distribution used for significance testing at the given alpha level.\n",
        "\n",
        "    Least Significant Difference:\n",
        "        Least Significant Difference 3.745452: This value is the minimum difference between means required for them to be considered significantly different. If the difference between any two means is greater than this value, it is considered statistically significant.\n",
        "\n",
        "    Group Comparisons and Classifications:\n",
        "        The groups are then classified based on whether their means differ significantly. Groups with means not significantly different from each other are assigned the same letter.\n",
        "        In your result, group 4 (with mean 21.6) is significantly different from all others and is labeled 'a'. Groups 3 and 2 are labeled 'b', indicating that they are not significantly different from each other but are different from group 4. Groups 5 and 1 are labeled 'c', indicating they are not significantly different from each other but are different from groups 2, 3, and 4.\n",
        "\n",
        "This output is useful for understanding not only the mean values of wheat yield at different nitrate levels but also how these means compare statistically. It helps in identifying which specific nitrate levels lead to significantly different wheat yields."
      ],
      "metadata": {
        "id": "iEL9xh8C2f-8"
      }
    },
    {
      "cell_type": "markdown",
      "source": [
        "It directly compares the means of each pair of groups and uses a t-distribution to determine if differences are significant"
      ],
      "metadata": {
        "id": "MvtjtyX62FAC"
      }
    },
    {
      "cell_type": "code",
      "source": [
        "# تمرین 1\n",
        "# conducting statistical tests on a dataset representing your monthly telephone expenses over a 12-month period. The data points provided are as follows: 46, 33, 39, 37, 46, 30, 48, 32, 49, 35, 30, 48.\n",
        "\n",
        "# There are two parts to the question:\n",
        "\n",
        "#     Test whether the mean of the total amount paid is equal to 44:\n",
        "#     This involves performing a one-sample t-test. The null hypothesis (H0) is that the mean is 44, and the alternative hypothesis (H1) is that the mean is not 44.\n",
        "\n",
        "#     Test whether the variance of the total amount paid is equal to 60:\n",
        "#     For this, a chi-squared test for variance is used. The null hypothesis (H0) is that the variance is 60, while the alternative hypothesis (H1) is that the variance is not 60.\n",
        "\n"
      ],
      "metadata": {
        "colab": {
          "base_uri": "https://localhost:8080/"
        },
        "id": "tvYh-Yi_jiAp",
        "outputId": "60639a77-437c-4222-95b9-026b5f70d0b8"
      },
      "execution_count": null,
      "outputs": [
        {
          "output_type": "stream",
          "name": "stdout",
          "text": [
            "\n",
            "\tOne Sample t-test\n",
            "\n",
            "data:  data\n",
            "t = -2.1065, df = 11, p-value = 0.05894\n",
            "alternative hypothesis: true mean is not equal to 44\n",
            "95 percent confidence interval:\n",
            " 34.62771 44.20563\n",
            "sample estimates:\n",
            "mean of x \n",
            " 39.41667 \n",
            "\n"
          ]
        }
      ]
    },
    {
      "cell_type": "code",
      "source": [
        "data <- c(46, 33, 39, 37, 46, 30, 48, 32, 49, 35, 30, 48)\n",
        "t_test_result <- t.test(data, mu=44)\n",
        "print(t_test_result)"
      ],
      "metadata": {
        "colab": {
          "base_uri": "https://localhost:8080/"
        },
        "id": "6HCXfpGrliS9",
        "outputId": "2af84eda-d62a-4e64-f3a4-392db73c0fb4"
      },
      "execution_count": null,
      "outputs": [
        {
          "output_type": "stream",
          "name": "stdout",
          "text": [
            "\n",
            "\tOne Sample t-test\n",
            "\n",
            "data:  data\n",
            "t = -2.1065, df = 11, p-value = 0.05894\n",
            "alternative hypothesis: true mean is not equal to 44\n",
            "95 percent confidence interval:\n",
            " 34.62771 44.20563\n",
            "sample estimates:\n",
            "mean of x \n",
            " 39.41667 \n",
            "\n"
          ]
        }
      ]
    },
    {
      "cell_type": "markdown",
      "source": [
        "    t-value: The t-value, -2.1065 in your case, is a measure of how many standard deviations the sample mean (39.41667) is from the hypothesized mean (44). A negative t-value indicates that the sample mean is less than the hypothesized mean.\n",
        "\n",
        "    Degrees of Freedom (df): The degrees of freedom, 11 in this case, are calculated as the number of observations minus 1 (12 - 1 = 11). This is used to determine the critical value from the t-distribution that the t-value should be compared against.\n",
        "\n",
        "    p-value: The p-value of 0.05894 tells you the probability of observing a result as extreme as, or more extreme than, the one observed (t = -2.1065) if the null hypothesis (that the mean is 44) were true. In conventional hypothesis testing, a p-value less than 0.05 is often considered statistically significant. Here, the p-value is slightly above 0.05, which suggests that the evidence against the null hypothesis is not strong enough to conclude that the mean is significantly different from 44.\n",
        "\n",
        "    95% Confidence Interval: This interval (34.62771 to 44.20563) represents the range of values within which you can be 95% confident that the true mean of the population lies. Since 44 (the hypothesized mean) falls within this interval, it suggests that there is not strong evidence against the hypothesis that the mean is 44.\n",
        "\n",
        "    Sample Estimates: The mean of x (39.41667) is the sample mean of your data. It's the average of the values you provided and is the point estimate of the population mean."
      ],
      "metadata": {
        "id": "6Q7PR99fl7Kh"
      }
    },
    {
      "cell_type": "markdown",
      "source": [
        "In statistical hypothesis testing, we don't exactly \"accept\" the null hypothesis (H0); rather, we either reject it or fail to reject it based on the evidence provided by our data.\n",
        "\n",
        "In your case, the null hypothesis (H0) is that the true mean of the phone expenses is 44. Given that your p-value (0.05894) is greater than the conventional threshold of 0.05, you do not have sufficient evidence to reject this hypothesis. This means you fail to reject the null hypothesis.\n",
        "\n",
        "However, \"failing to reject\" the null hypothesis is not the same as proving it true or accepting it. It simply means that your data does not provide strong enough evidence against H0. In other words, based on your data, it's plausible that the true mean is 44, but you're not confirming this with certainty.\n",
        "\n",
        "So, in summary, your result indicates that while there is some indication that the mean might not be 44 (as seen from the sample mean of 39.41667), this evidence is not strong enough to confidently state that the true mean differs from 44. You do not reject H0, but this conclusion is not a strong endorsement of H0 either. It's more about the lack of sufficient evidence to prove otherwise."
      ],
      "metadata": {
        "id": "wTsDB6IHm-xO"
      }
    },
    {
      "cell_type": "code",
      "source": [
        "n <- length(data)\n",
        "sample_variance <- var(data)\n",
        "chi_sq_statistic <- (n-1) * sample_variance / 60\n",
        "p_value_variance <- pchisq(chi_sq_statistic, df=n-1, lower.tail=FALSE)\n",
        "print(chi_sq_statistic) #measures how much your observed variance deviates from the hypothesized variance\n",
        "print(p_value_variance) #how extreme the chi-squared statistic is, assuming the null hypothesis is true"
      ],
      "metadata": {
        "colab": {
          "base_uri": "https://localhost:8080/"
        },
        "id": "VzLxFaMYlJRC",
        "outputId": "1327d467-581a-4022-f0dd-4256b04f4fae"
      },
      "execution_count": null,
      "outputs": [
        {
          "output_type": "stream",
          "name": "stdout",
          "text": [
            "[1] 10.41528\n",
            "[1] 0.4934642\n"
          ]
        }
      ]
    },
    {
      "cell_type": "markdown",
      "source": [
        "there isn't enough evidence to reject the null hypothesis that the true variance of your phone expenses is 60."
      ],
      "metadata": {
        "id": "YrzZ-vnrpzo-"
      }
    },
    {
      "cell_type": "code",
      "source": [],
      "metadata": {
        "id": "qAZY5ly3pzam"
      },
      "execution_count": null,
      "outputs": []
    },
    {
      "cell_type": "code",
      "source": [],
      "metadata": {
        "id": "9I-vpa8zleTD"
      },
      "execution_count": null,
      "outputs": []
    }
  ]
}